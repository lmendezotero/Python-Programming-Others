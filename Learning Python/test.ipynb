<center>
<img src="https://www.leouieda.com/images/thumb/python-hawaii-2017.png">
</center>
