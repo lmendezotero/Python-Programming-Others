{
 "cells": [
  {
   "cell_type": "markdown",
   "metadata": {},
   "source": [
    "<center>\n",
    "<img src=\"https://www.leouieda.com/images/thumb/python-hawaii-2017.png\">\n",
    "</center>"
   ]
  },
  {
   "cell_type": "markdown",
   "metadata": {},
   "source": [
    "# 1 The basics "
   ]
  },
  {
   "cell_type": "markdown",
   "metadata": {},
   "source": [
    "## 1.1 Variables "
   ]
  },
  {
   "cell_type": "markdown",
   "metadata": {},
   "source": [
    "### 1.1.1 What is a variable? "
   ]
  },
  {
   "cell_type": "markdown",
   "metadata": {},
   "source": [
    "A **variable** is a space to store modifiable data in the computer memory. Each variable has a name and a value, which defines the data type of the variable.\n",
    "\n",
    "Syntax: **variable_name = variable_value**\n",
    "\n",
    "Note: there is a data type called CONSTANT, which is used to define fixed values ​​that do not need to be modified. These types of variables are usually written in capital letters."
   ]
  },
  {
   "cell_type": "code",
   "execution_count": 1,
   "metadata": {},
   "outputs": [
    {
     "name": "stdout",
     "output_type": "stream",
     "text": [
      "lorena\n",
      "2000\n"
     ]
    }
   ],
   "source": [
    "#this is variable:\n",
    "name= 'lorena'\n",
    "print(name)\n",
    "\n",
    "#this is a constant:\n",
    "salary = 2000\n",
    "print(salary)"
   ]
  },
  {
   "cell_type": "markdown",
   "metadata": {},
   "source": [
    "###  1.1.2 Data types"
   ]
  },
  {
   "cell_type": "markdown",
   "metadata": {},
   "source": [
    "Variables and constants can have the following data type:\n",
    "\n",
    "**String / Text strings** => \"hello world\"\n",
    "\n",
    "**Integer / Integer** => 35\n",
    "\n",
    "**Real number / Float** => 735.15\n",
    "\n",
    "**Boolean (true / false)** => TURE: TRUE // FALSE: FALSE"
   ]
  },
  {
   "cell_type": "markdown",
   "metadata": {},
   "source": [
    "## 1.2 Operators "
   ]
  },
  {
   "cell_type": "markdown",
   "metadata": {},
   "source": [
    "### 1.2.1 Arithmetic operators "
   ]
  },
  {
   "attachments": {},
   "cell_type": "markdown",
   "metadata": {},
   "source": [
    "| Operator | Description | Example | \n",
    "| :---: | :---: | :---: | \n",
    "| +\t| Suma | r = 3 + 4 #r is 7 |\n",
    "| -\t| Subtract | r = 3 - 1 #r is 2 |\n",
    "| - | Negation | r = -7 #r is -7 |\n",
    "| * | Exponent | r=2*6 #r is 12|\n",
    "| ** | Multiply | r=3 ** 5 #r is 15|\n",
    "| / | Division | r=3.5 / 2 #r is 1.75 |\n",
    "| // | Integer Division | r=3.5 // 2 #r is 1.0|\n",
    "| % | Module | r=7 % 2 #r is 1|\n"
   ]
  },
  {
   "cell_type": "markdown",
   "metadata": {},
   "source": [
    "### 1.2.2 Assignment operators "
   ]
  },
  {
   "cell_type": "markdown",
   "metadata": {},
   "source": [
    "| Operator | Description | Example | \n",
    "| :---: | :---: | :---: | \n",
    "| =\t| assing values to a varaiable | r = 5 |\n",
    "| += | sum the value of a variable | r = 5; r +=10; r = 15 |\n",
    "| -= | subtract the value of the variable | r = 5; r -=2; r = 3 |\n",
    "| * = | multiply the value of the variable | r = 5; r * =2; r = 10 |\n",
    "| /= | divide the value of the variable | r = 10; r /=2; r = 5 |\n",
    "| //= |  calculates the integer division of the value  | r = 5; r /=10; r = 0 |\n",
    "| %= | returns the remainder of the variable's value division | r = 5; r %=10; r = 5 |\n",
    "| **= | calculate the exponent of the value of the variable | r = 5; r **=10; r = 9765625 |"
   ]
  },
  {
   "cell_type": "markdown",
   "metadata": {},
   "source": [
    "### 1.2.3 Python Reserved Words "
   ]
  },
  {
   "cell_type": "markdown",
   "metadata": {},
   "source": [
    "False | class | finally | is | return | None | continue | lambda | try | for |\n",
    "\n",
    "\n",
    "\n",
    "True | def | from | nonlocal | while | and | del | global | not | with |\n",
    "\n",
    "\n",
    "\n",
    "as | elif | if | or | yield | assert | else | import | pass | async |\n",
    " \n",
    "\n",
    "\n",
    "break | except | in | raise | await |"
   ]
  },
  {
   "cell_type": "markdown",
   "metadata": {},
   "source": [
    "### 1.2.4 Relational Operators "
   ]
  },
  {
   "cell_type": "markdown",
   "metadata": {},
   "source": [
    "| Operator | Description | Example | \n",
    "| :---: | :---: | :---: | \n",
    "| ==\t| Are A and B equal? | r= 5 == 3 #r is False |\n",
    "| !=\t| Are A and B different? | r= 5 != 3 #r is True|\n",
    "| < | Is A less than B? | r= 5 < 3 #r is False |\n",
    "| > | Is A greater than B? | r= 5 > 3 #r is True|\n",
    "| <= | Is A less than or equal to B? | r= 5 <= 3 #r is False|\n",
    "| >= |  Is A greater than or equal to B?  | r= 5 >= 3 #r is True|"
   ]
  },
  {
   "cell_type": "markdown",
   "metadata": {},
   "source": [
    "### 1.2.5 Logical Operators "
   ]
  },
  {
   "cell_type": "markdown",
   "metadata": {},
   "source": [
    "| Operator | Description | Example | \n",
    "| :---: | :---: | :---: | \n",
    "| and\t| Are A and B true? | r= True and False  #r is False |\n",
    "| or\t| Are A or B true? | r= True or False  #r is True|\n",
    "| not | No A | r= Not True  #r is False |"
   ]
  },
  {
   "cell_type": "markdown",
   "metadata": {},
   "source": [
    "## 1.3 \"Format\" and \"Input\" Functions "
   ]
  },
  {
   "cell_type": "markdown",
   "metadata": {},
   "source": [
    "### 1.3.1 Format Function "
   ]
  },
  {
   "cell_type": "markdown",
   "metadata": {},
   "source": [
    "The \"format\" function 0concatenates text or strings. Steps to follow in a \"format\" function:\n",
    "* Step 1: Enter the text we want to concatenate\n",
    "* Step 2: Indicate where we are going to locate the text that we want to concatenate with {}\n",
    "* Step 3: print statement (variable.format (text to concatenate))"
   ]
  },
  {
   "cell_type": "code",
   "execution_count": 2,
   "metadata": {},
   "outputs": [
    {
     "name": "stdout",
     "output_type": "stream",
     "text": [
      "Results of the product 1 'milk' and the product 'cereals':\n",
      "The prize of the first product is smaller than the prize of the second product\n"
     ]
    }
   ],
   "source": [
    "product1 = 'milk'\n",
    "product2 = 'cereals'\n",
    "header = \"Results of the product 1 '{0}' and the product '{1}':\"\n",
    "print(header.format(product1, product2))\n",
    "print(\"The prize of the first product is smaller than the prize of the second product\")"
   ]
  },
  {
   "cell_type": "markdown",
   "metadata": {},
   "source": [
    "### 1.3.2 Input Function  "
   ]
  },
  {
   "cell_type": "markdown",
   "metadata": {},
   "source": [
    "The input () function allows you to obtain keyboard typed text. Upon reaching the function, the program stops waiting for something to be typed and the Enter key pressed."
   ]
  },
  {
   "cell_type": "code",
   "execution_count": 3,
   "metadata": {},
   "outputs": [
    {
     "name": "stdout",
     "output_type": "stream",
     "text": [
      "What is your name?\n",
      "Lorena\n",
      "Nice to meet you!\n"
     ]
    }
   ],
   "source": [
    "#let's check an example\n",
    "print(\"What is your name?\")\n",
    "name = input()\n",
    "print(\"Nice to meet you!\")"
   ]
  },
  {
   "cell_type": "markdown",
   "metadata": {},
   "source": [
    "## 1.4 Conditions "
   ]
  },
  {
   "cell_type": "markdown",
   "metadata": {},
   "source": [
    "### 1.4.1 Simple Conditions "
   ]
  },
  {
   "cell_type": "markdown",
   "metadata": {},
   "source": [
    "For simple conditionals, we use the keyword **\"If\"** and **\"Else\"**.\n",
    "\n",
    "Importante note: In case that a simple condition is not met, a second statement called “Else” is introduced, which extracts the result if \"If\" is false."
   ]
  },
  {
   "cell_type": "code",
   "execution_count": 4,
   "metadata": {},
   "outputs": [
    {
     "name": "stdout",
     "output_type": "stream",
     "text": [
      "Please guess a number between 1 and 10: \n",
      "3\n",
      "Please guess higher\n",
      "5\n",
      "Well done, you guessed it\n"
     ]
    }
   ],
   "source": [
    "#let's check an example\n",
    "print(\"Please guess a number between 1 and 10: \")    \n",
    "guess= int(input())\n",
    "\n",
    "if guess < 5:\n",
    "    print(\"Please guess higher\")\n",
    "    guess= int(input())\n",
    "    \n",
    "if guess == 5:\n",
    "    print(\"Well done, you guessed it\")\n",
    "\n",
    "else:\n",
    "    print(\"Sorry, you have not guessed correctly\")"
   ]
  },
  {
   "cell_type": "markdown",
   "metadata": {},
   "source": [
    "### 1.4.2 Nested Conditions "
   ]
  },
  {
   "cell_type": "markdown",
   "metadata": {},
   "source": [
    "We find nested conditional structures when by the true or false branch of a conditional structure there is another conditional structure. \n",
    "\n",
    "The keyword **\"Elif\"** is used to refer to nested conditions."
   ]
  },
  {
   "cell_type": "code",
   "execution_count": 5,
   "metadata": {},
   "outputs": [
    {
     "name": "stdout",
     "output_type": "stream",
     "text": [
      "Insert the first note: 5\n",
      "Insert the second note: 9\n",
      "Insert the third note: 8\n",
      "You did not approve the exame\n"
     ]
    }
   ],
   "source": [
    "note1 = int(input(\"Insert the first note: \"))\n",
    "note2 = int(input(\"Insert the second note: \"))\n",
    "note3 = int(input(\"Insert the third note: \"))\n",
    "average = (note1+note2+note3)/3\n",
    "\n",
    "if average == 9 or average ==10:\n",
    "    print(\"Outstanding\")\n",
    "elif average == 5:\n",
    "    print(\"Approved\")\n",
    "elif average == 6:\n",
    "    print(\"Good\")\n",
    "elif average == 7 or average ==8:\n",
    "    print(\"Remarkable\")\n",
    "else:\n",
    "    print(\"You did not approve the exame\")"
   ]
  },
  {
   "cell_type": "markdown",
   "metadata": {},
   "source": [
    "## 1.3 Loops in Python "
   ]
  },
  {
   "cell_type": "markdown",
   "metadata": {},
   "source": [
    "A loop in programming is the continuous execution of a certain code block while an assigned condition is met."
   ]
  },
  {
   "cell_type": "markdown",
   "metadata": {},
   "source": [
    "### 1.3.1 WHILE Loop "
   ]
  },
  {
   "cell_type": "markdown",
   "metadata": {},
   "source": [
    "The **WHILE loop** allows us to run a block of code continuously as long as the condition is true, and we can even create infinite loops.\n",
    "\n",
    "These are executed while the condition is true, that is, if the condition is met, the body of said loop will be executed and at the end the condition will be checked again, if it continues to be true because it will be executed again. Otherwise, it will omit it and continue normal program execution.\n",
    "\n",
    "The key word **Break** is used to stop the repetition of the loop."
   ]
  },
  {
   "cell_type": "code",
   "execution_count": 6,
   "metadata": {},
   "outputs": [
    {
     "name": "stdout",
     "output_type": "stream",
     "text": [
      "are not you glad you got out of there!\n"
     ]
    }
   ],
   "source": [
    "#let's check an example\n",
    "\n",
    "available_exists = (\"east\", \"north east\", \"south\")\n",
    "\n",
    "chosen_exist= 'east'\n",
    "\n",
    "while chosen_exist not in available_exists:\n",
    "    chosen_exist = input(\"Please chose a direction: \")\n",
    "    if chosen_exist == 'quit':\n",
    "        print(\"Game over\")\n",
    "        break\n",
    "else:\n",
    "    print(\"are not you glad you got out of there!\")"
   ]
  },
  {
   "cell_type": "markdown",
   "metadata": {},
   "source": [
    "### 1.3.2 FOR Loop "
   ]
  },
  {
   "cell_type": "markdown",
   "metadata": {},
   "source": [
    "The **FOR loop** is the one that goes through a sequence looking for the iterable elements that meet a certain condition and performing some instruction as specified. It is important to emphasize that these elements must be **\"iterable\"**, that is, traversable.\n",
    "\n",
    "**Iterate**: means to perform a certain action repeatedly and in the case of for it refers to going through iterable elements, such as a dictionary in search of a particular element. This block of code in the loop is often called the \"loop body\" and each repetition is often called an iteration."
   ]
  },
  {
   "cell_type": "code",
   "execution_count": 7,
   "metadata": {},
   "outputs": [
    {
     "name": "stdout",
     "output_type": "stream",
     "text": [
      "The before >><<interaction number 0\n",
      "The after >>9<<\n",
      "The before >>9<<interaction number 2\n",
      "The after >>2<<\n",
      "The before >>2<<interaction number 3\n",
      "The after >>2<<\n",
      "The before >>2<<interaction number 4\n",
      "The after >>3<<\n",
      "The before >>3<<interaction number 6\n",
      "The after >>3<<\n",
      "The before >>3<<interaction number 7\n",
      "The after >>7<<\n",
      "The before >>7<<interaction number 8\n",
      "The after >>2<<\n",
      "The before >>2<<interaction number 10\n",
      "The after >>0<<\n",
      "The before >>0<<interaction number 11\n",
      "The after >>3<<\n",
      "The before >>3<<interaction number 12\n",
      "The after >>6<<\n",
      "The before >>6<<interaction number 14\n",
      "The after >>8<<\n",
      "The before >>8<<interaction number 15\n",
      "The after >>5<<\n",
      "The before >>5<<interaction number 16\n",
      "The after >>4<<\n",
      "The before >>4<<interaction number 18\n",
      "The after >>7<<\n",
      "The before >>7<<interaction number 19\n",
      "The after >>7<<\n",
      "The before >>7<<interaction number 20\n",
      "The after >>5<<\n",
      "The before >>5<<interaction number 22\n",
      "The after >>8<<\n",
      "The before >>8<<interaction number 23\n",
      "The after >>0<<\n",
      "The before >>0<<interaction number 24\n",
      "The after >>7<<\n",
      "The number is 7\n"
     ]
    }
   ],
   "source": [
    "#let's check and example\n",
    "number= '9,223,372,036,854,775,807'\n",
    "clearedNumber= ''\n",
    "#print(clearedNumber)\n",
    "\n",
    "for i in range(0, len(number)):\n",
    "    if number[i] in '0123456789':\n",
    "        print(\"The before >>\" + clearedNumber + \"<<interaction number \" + str(i))\n",
    "        #clearedNumber= clearedNumber + number[i] \n",
    "        #clearedNumber+= number[i]\n",
    "        #las dos anteriores frases dicen lo mismo\n",
    "        clearedNumber= number[i]\n",
    "        print(\"The after >>\" + clearedNumber + \"<<\")\n",
    "\n",
    "newNumber= int(clearedNumber)\n",
    "print(\"The number is {}\".format(newNumber)) "
   ]
  },
  {
   "cell_type": "markdown",
   "metadata": {},
   "source": [
    "### 1.3.3 Loops Control: Break, Continue and Pass in Python "
   ]
  },
  {
   "cell_type": "markdown",
   "metadata": {},
   "source": [
    "#### A) Break \n",
    "\n",
    "\n",
    "The **Break** instruction is used to end a loop, that is, to exit it and continue executing the rest of the program's instructions."
   ]
  },
  {
   "cell_type": "code",
   "execution_count": 8,
   "metadata": {},
   "outputs": [
    {
     "name": "stdout",
     "output_type": "stream",
     "text": [
      "I Cannot have anything withou bacon on it\n"
     ]
    }
   ],
   "source": [
    "#let's check an example\n",
    "\n",
    "meal= (\"egg\", \"bacon\", \"tomato\", \"sausages\")\n",
    "for item in meal:\n",
    "    if item == 'bacon':\n",
    "        nasty_food = item\n",
    "        break\n",
    "else:\n",
    "    nasty_food = ''\n",
    "    print(\"I will have a dish of that, please\")\n",
    "    \n",
    "if nasty_food :\n",
    "    print(\"I Cannot have anything withou bacon on it\")"
   ]
  },
  {
   "cell_type": "markdown",
   "metadata": {},
   "source": [
    "### B) Continue \n",
    "\n",
    "The **Continue** statement within a loop forces the interpreter to return to the beginning of the loop bypassing all statements or iterations below it."
   ]
  },
  {
   "cell_type": "code",
   "execution_count": 9,
   "metadata": {},
   "outputs": [
    {
     "name": "stdout",
     "output_type": "stream",
     "text": [
      "Buy milk\n",
      "Buy pasta\n",
      "Buy eggs\n",
      "I am ignoring spam\n",
      "Buy bread\n",
      "Buy rice\n"
     ]
    }
   ],
   "source": [
    "#let's check an example\n",
    "\n",
    "shopping_list= (\"milk\", \"pasta\", \"eggs\", \"spam\", \"bread\", \"rice\")\n",
    "for item in shopping_list:\n",
    "    if item == 'spam':\n",
    "        print(\"I am ignoring \" + item)\n",
    "        continue\n",
    "    print(\"Buy \" + item)"
   ]
  },
  {
   "cell_type": "markdown",
   "metadata": {},
   "source": [
    "#### C) Pass\n",
    "The **Pass** statement is a null expression, it does nothing. It allows us to create a loop without putting code in its body to add it later using it as a temporary padding.\n",
    "\n",
    "The difference with continue is that it ends the current iteration but continues with the next instruction or loop iteration, going back to the beginning. Instead pass does nothing and continues with the following instructions of this without going back to the beginning."
   ]
  },
  {
   "cell_type": "code",
   "execution_count": 10,
   "metadata": {},
   "outputs": [
    {
     "name": "stdout",
     "output_type": "stream",
     "text": [
      "Buy milk\n",
      "Buy pasta\n",
      "Buy eggs\n",
      "I am ignoring spam\n",
      "Buy spam\n",
      "Buy bread\n",
      "Buy rice\n"
     ]
    }
   ],
   "source": [
    "#let's check an example\n",
    "\n",
    "shopping_list= (\"milk\", \"pasta\", \"eggs\", \"spam\", \"bread\", \"rice\")\n",
    "for item in shopping_list:\n",
    "    if item == 'spam':\n",
    "        print(\"I am ignoring \" + item)\n",
    "        pass\n",
    "    print(\"Buy \" + item)"
   ]
  },
  {
   "cell_type": "markdown",
   "metadata": {},
   "source": [
    "# 2 Structure Programming"
   ]
  },
  {
   "cell_type": "markdown",
   "metadata": {},
   "source": [
    "In a few words, Structure Programming is based on functions."
   ]
  },
  {
   "cell_type": "markdown",
   "metadata": {},
   "source": [
    "## 2.1 Functions "
   ]
  },
  {
   "cell_type": "markdown",
   "metadata": {},
   "source": [
    "### 2.1.1 Create a function "
   ]
  },
  {
   "cell_type": "markdown",
   "metadata": {},
   "source": [
    "A **Function** is the way to group expressions and statements (algorithms) that perform certain actions, but those actions are executed when they are called. Therefore, if I put an algorithm inside a function, when executing the file the algorithm does not execute if a reference to the function that contains it has not been included.\n",
    "\n",
    "Defining functions in Python is done using the **def** statement and a descriptive function name followed by opening and closing parentheses. "
   ]
  },
  {
   "cell_type": "code",
   "execution_count": 11,
   "metadata": {},
   "outputs": [
    {
     "name": "stdout",
     "output_type": "stream",
     "text": [
      "Program to do arithmetic operations of two values\n",
      "************************************\n",
      "Enter the value 1:5\n",
      "Enter the value 2:2\n",
      "The result of the sum is:  7\n",
      "The result of the subtraction is:  3\n",
      "************************************\n",
      "Thanks for using the program\n"
     ]
    }
   ],
   "source": [
    "#let's check an example of program with simple functions\n",
    "\n",
    "def presentation():\n",
    "    print('Program to do arithmetic operations of two values')\n",
    "    print('************************************')\n",
    "    \n",
    "def enterData ():\n",
    "    global valor1\n",
    "    global valor2\n",
    "    valor1 = int(input(\"Enter the value 1:\"))\n",
    "    valor2 = int(input(\"Enter the value 2:\"))\n",
    "\n",
    "def suma ():\n",
    "    suma = valor1 + valor2\n",
    "    print(\"The result of the sum is: \", suma)\n",
    "    \n",
    "def subtraction ():\n",
    "    resta = valor1 - valor2\n",
    "    print(\"The result of the subtraction is: \", resta)\n",
    "\n",
    "def ending():\n",
    "    print('************************************')\n",
    "    print('Thanks for using the program')\n",
    "\n",
    "#Call the functions\n",
    "presentation()\n",
    "enterData()\n",
    "suma()\n",
    "subtraction()\n",
    "ending()"
   ]
  },
  {
   "cell_type": "markdown",
   "metadata": {},
   "source": [
    "### 2.1.2 Functions with Parameters "
   ]
  },
  {
   "cell_type": "markdown",
   "metadata": {},
   "source": [
    "A **parameter** is a value that the function expects to receive when called / invoked, in order to execute actions based on it. A function can expect one or more parameters (separated by commas), or none.\n",
    "\n",
    "The parameters are indicated between the parentheses in the form of a variable and the values ​​of those parameters will be used within the function as a local variable.\n",
    "\n",
    "Important note => If we want to access the parameters from outside the function it will give us an error."
   ]
  },
  {
   "cell_type": "markdown",
   "metadata": {},
   "source": [
    "#### Simple Parameters"
   ]
  },
  {
   "cell_type": "code",
   "execution_count": 12,
   "metadata": {},
   "outputs": [
    {
     "name": "stdout",
     "output_type": "stream",
     "text": [
      "*****************************\n",
      "Calculation of the sum of the values\n",
      "*****************************\n",
      "Enter the first value:3\n",
      "Enter the second value:4\n",
      "The value of the sum is:  7\n"
     ]
    }
   ],
   "source": [
    "#let's check an example \n",
    "\n",
    "def show_message(mensaje):\n",
    "    print(\"*****************************\")\n",
    "    print(mensaje)\n",
    "    print(\"*****************************\")\n",
    "\n",
    "def upload_sum():\n",
    "    valor1 = int(input(\"Enter the first value:\"))\n",
    "    valor2 = int(input(\"Enter the second value:\"))\n",
    "    suma = valor1 + valor2\n",
    "    print(\"The value of the sum is: \", suma)\n",
    "\n",
    "show_message(\"Calculation of the sum of the values\")\n",
    "upload_sum()\n",
    "\n",
    "#The parameter is \"message\""
   ]
  },
  {
   "cell_type": "markdown",
   "metadata": {},
   "source": [
    "### 2.1.3 Functions that return data "
   ]
  },
  {
   "cell_type": "markdown",
   "metadata": {},
   "source": [
    "We must use the keyword **\"return\"** to get a function that returns data."
   ]
  },
  {
   "cell_type": "code",
   "execution_count": 13,
   "metadata": {},
   "outputs": [
    {
     "name": "stdout",
     "output_type": "stream",
     "text": [
      "Enter the value of the side of the square: 4\n",
      "The surface of the square is:  16\n"
     ]
    }
   ],
   "source": [
    "#Let's check an example\n",
    "\n",
    "def return_surface(side):\n",
    "    surface = side*side\n",
    "    return surface  \n",
    "\n",
    "va = int(input(\"Enter the value of the side of the square: \"))\n",
    "superficie = return_surface (va) \n",
    "print(\"The surface of the square is: \", superficie)\n"
   ]
  },
  {
   "cell_type": "markdown",
   "metadata": {},
   "source": [
    "### 2.1.4 Default parameters "
   ]
  },
  {
   "cell_type": "markdown",
   "metadata": {},
   "source": [
    "We can assign **default values** ​​to the function parameters. We can also call the function by passing it expected arguments, such as key = value pairs."
   ]
  },
  {
   "cell_type": "code",
   "execution_count": 14,
   "metadata": {},
   "outputs": [
    {
     "name": "stdout",
     "output_type": "stream",
     "text": [
      "this is the change Lorena Mendez\n"
     ]
    }
   ],
   "source": [
    "#Let's check an example\n",
    "\n",
    "def greet(name, message = \"Hello\"):\n",
    "    print(message, name)\n",
    "\n",
    "greet(\"Lorena Mendez\", \"this is the change\")\n",
    "\n",
    "#In this case I am only sending values ​​to a parameter (name)\n",
    "#since the parameter \"message\" already has the values ​​established when defining the function"
   ]
  },
  {
   "cell_type": "markdown",
   "metadata": {},
   "source": [
    "### 2.1.5 Arbitrary parameters "
   ]
  },
  {
   "cell_type": "markdown",
   "metadata": {},
   "source": [
    "A function may expect to receive an unknown number of arguments, which arrive at the function in the form of a tuple using the asterisk (*) symbol.\n",
    "\n",
    "Arbitrary parameters are traversed as a tuple and should follow fixed parameters. It is possible to get parameters as key = value pairs, but the parameter name must precede the ** signs."
   ]
  },
  {
   "cell_type": "code",
   "execution_count": 15,
   "metadata": {},
   "outputs": [
    {
     "name": "stdout",
     "output_type": "stream",
     "text": [
      "******Suma of 2 values*****\n",
      "9\n",
      "******Suma of 5 values*****\n",
      "30\n",
      "******Suma of 8 values*****\n",
      "60\n"
     ]
    }
   ],
   "source": [
    "#Let's check an example\n",
    "\n",
    "def sumar (v1, v2, *lista):\n",
    "    suma = v1 + v2\n",
    "    for x in range(len(lista)):\n",
    "        suma = suma + lista[x]    \n",
    "    return suma\n",
    "\n",
    "print(\"******Suma of 2 values*****\")\n",
    "print(sumar(4, 5))\n",
    "print(\"******Suma of 5 values*****\")\n",
    "print(sumar(4,5,6,7,8))\n",
    "print(\"******Suma of 8 values*****\")\n",
    "print(sumar(4,5,6,7,8,9,10,11))\n",
    "\n",
    "#Important to specify the len () statement when working with tuples, otherwise we will encounter an error"
   ]
  },
  {
   "cell_type": "markdown",
   "metadata": {},
   "source": [
    "## 2.2 Lists & Tuples "
   ]
  },
  {
   "cell_type": "markdown",
   "metadata": {},
   "source": [
    "### 2.2.1 Tuple Data"
   ]
  },
  {
   "cell_type": "markdown",
   "metadata": {},
   "source": [
    "Tuples allow you to **store a collection of data not necessarily of the same type**.\n",
    "\n",
    "The tuple data is immutable unlike the litas which are mutable, so **once you initialize the tuple you cannot add / delete / modify its elements**.\n",
    "\n",
    "Syntax:\n",
    "\n",
    "tuple_name = (value1, value2, value3, ...)"
   ]
  },
  {
   "cell_type": "code",
   "execution_count": 5,
   "metadata": {},
   "outputs": [
    {
     "name": "stdout",
     "output_type": "stream",
     "text": [
      "a b c\n",
      "('a', 'b', 'c')\n"
     ]
    }
   ],
   "source": [
    "#Tuples Definition\n",
    "\n",
    "print(\"a\",\"b\",\"c\")\n",
    "print((\"a\",\"b\",\"c\"))"
   ]
  },
  {
   "cell_type": "code",
   "execution_count": 4,
   "metadata": {},
   "outputs": [
    {
     "name": "stdout",
     "output_type": "stream",
     "text": [
      "Enter the number of the day: 21\n",
      "Enter the number of the month: 12\n",
      "Enter the number of the year: 1992\n",
      "21/12/1992\n"
     ]
    }
   ],
   "source": [
    "#Let's check an example\n",
    "\n",
    "def upload_date():\n",
    "    dd = int(input(\"Enter the number of the day: \"))\n",
    "    mm = int(input(\"Enter the number of the month: \"))\n",
    "    aa = int(input(\"Enter the number of the year: \"))\n",
    "    tuple = (dd, mm, aa)\n",
    "    return tuple\n",
    "\n",
    "def print_date(date):\n",
    "    print(date[0], date[1], date[2], sep = \"/\")\n",
    "\n",
    "date = upload_date()\n",
    "print_date(date)"
   ]
  },
  {
   "cell_type": "markdown",
   "metadata": {},
   "source": [
    "### 2.2.2 List Data "
   ]
  },
  {
   "cell_type": "markdown",
   "metadata": {},
   "source": [
    "**Lists are mutable data structures**, so we can modify / add / delete their elements, so once defined they can be changed (unlike tuples).\n",
    "\n",
    "Syntax:\n",
    "\n",
    "list_name = [value1, value2, value3,…]"
   ]
  },
  {
   "cell_type": "code",
   "execution_count": 6,
   "metadata": {},
   "outputs": [
    {
     "name": "stdout",
     "output_type": "stream",
     "text": [
      "[1, 2, 3, 5, 5, 6, 7, 8, 9]\n",
      "These lists are equal\n"
     ]
    }
   ],
   "source": [
    "#Let's check an example\n",
    "\n",
    "odd = [1, 2, 3, 5, 5]\n",
    "even = [6, 7, 8, 9]\n",
    "numbers = odd + even\n",
    "numbers_in_order = sorted(numbers)\n",
    "print(numbers_in_order)\n",
    "  \n",
    "    \n",
    "if numbers_in_order == sorted(numbers):\n",
    "    print(\"These lists are equal\")\n",
    "else:\n",
    "    print(\"These lists are not equal\")"
   ]
  },
  {
   "cell_type": "markdown",
   "metadata": {},
   "source": [
    "### 2.2.3 Nested Tuples and Lists"
   ]
  },
  {
   "cell_type": "markdown",
   "metadata": {},
   "source": [
    "What are **Nested Lists**? => When the elements of a list are of type list, that is, a list is made up of several lists.\n",
    "\n",
    "What are **Nested Tuples**? => When the elements of a tuple are of type tuple, that is, a tuple is made up of several tuples.\n",
    "\n",
    "Therefore, in Pyhton we can create and combine tuples with elements of type list and viceversa, lists with elements of type tuple."
   ]
  },
  {
   "cell_type": "code",
   "execution_count": 9,
   "metadata": {},
   "outputs": [
    {
     "name": "stdout",
     "output_type": "stream",
     "text": [
      "['juan', 53, (25, 11, 1999)]\n",
      "['juan', 53, (25, 11, 1999), (1, 1, 2016)]\n",
      "('pedro', [7, 9])\n",
      "('pedro', [7, 9, 10])\n"
     ]
    }
   ],
   "source": [
    "#Let's check an example\n",
    "\n",
    "employee=[\"juan\", 53, (25, 11, 1999)]\n",
    "print(employee)\n",
    "\n",
    "employee.append((1, 1, 2016))\n",
    "print(employee)\n",
    "\n",
    "student=(\"pedro\",[7, 9])\n",
    "print(student)\n",
    "\n",
    "student[1].append(10)\n",
    "print(student)"
   ]
  },
  {
   "cell_type": "markdown",
   "metadata": {},
   "source": [
    "### 2.2.4 Lots of Lists, Tuples and Strings  "
   ]
  },
  {
   "cell_type": "markdown",
   "metadata": {},
   "source": [
    "This action consists on selecting a certain number or set from the list, tuple or string => this method is known as **\"slicing\"**."
   ]
  },
  {
   "cell_type": "code",
   "execution_count": 11,
   "metadata": {},
   "outputs": [
    {
     "name": "stdout",
     "output_type": "stream",
     "text": [
      "Print the missing months until the end of the year\n",
      "Insert the number of the month: 5\n",
      "('june', 'july', 'august', 'september', 'october', 'november', 'december')\n"
     ]
    }
   ],
   "source": [
    "#Let's check an example with a program that extracts the remaining months from the list\n",
    "\n",
    "def missing_months(number):\n",
    "    months = (\"january\", \"february\", \"march\", \"april\", \"may\", \"june\", \"july\", \"august\", \"september\", \"october\", \"november\", \"december\")\n",
    "    return months [number :]\n",
    "\n",
    "#main part\n",
    "#return the missing months until the end of the year\n",
    "\n",
    "print (\"Print the missing months until the end of the year\")\n",
    "number = int(input(\"Insert the number of the month: \"))\n",
    "missingmonths = missing_months(number)\n",
    "print(missingmonths)\n"
   ]
  },
  {
   "cell_type": "markdown",
   "metadata": {},
   "source": [
    "### 2.2.5 Negative Indices in Lists, Tuples and Strings"
   ]
  },
  {
   "cell_type": "markdown",
   "metadata": {},
   "source": [
    "*To access the elements of a list we must indicate an index that begins to be enumerated starting from 0*. Therefore, to access the first element of the list we use index 0, for the second element we use the value 1 and so on. get to the last item on the list.\n",
    "\n",
    "In addition, we can use negative values ​​to access values ​​from data structures. Therefore, to access the last value in the list we use the index -1, for the second to last we use the value -2 and so on until the first element of the list."
   ]
  },
  {
   "cell_type": "code",
   "execution_count": 12,
   "metadata": {},
   "outputs": [
    {
     "name": "stdout",
     "output_type": "stream",
     "text": [
      "6\n",
      "5\n"
     ]
    }
   ],
   "source": [
    "#Let's check an example\n",
    "\n",
    "list1=[0,1,2,3,4,5,6]\n",
    "\n",
    "print(list1[-1]) \n",
    "\n",
    "print(list1[-2]) "
   ]
  },
  {
   "cell_type": "markdown",
   "metadata": {},
   "source": [
    "## 2.3 Dictionaries "
   ]
  },
  {
   "cell_type": "markdown",
   "metadata": {},
   "source": [
    "The **Dictionaries data structure uses a key to access a value**. The subscript can be an integer, a float (decimal), string (character string), a tuple, etc. Therefore, **Dictionaries can be made up of any immutable data type**.\n",
    "\n",
    "Dictionary features:\n",
    "\n",
    "* To define a dictionary, the list of values ​​is enclosed in curly braces. The key and value pairs are separated by commas, while the key and value are separated by a colon:\n",
    "\n",
    "dictionary = {‘calve1’: ‘value1’, ‘calve2’: ‘value2’,…}\n",
    "\n",
    "* We can access the element of a Dictionary using the key of this element, as we will see below:\n",
    "\n",
    "print (dictionary [‘key1 ’])\n",
    "\n",
    "* It is also possible to insert a list within a Dictionary. To access each of the elements (dictionary and list) we use the indexes:\n",
    "\n",
    "print (dictionary [value1] [0])\n",
    "\n",
    "* To go through the whole Dictionary, we can use the **for loop**.\n",
    "for key in dictionary:\n",
    "\n",
    "print (key, dictionary [key])"
   ]
  },
  {
   "cell_type": "code",
   "execution_count": 13,
   "metadata": {},
   "outputs": [
    {
     "name": "stdout",
     "output_type": "stream",
     "text": [
      "Honda\n",
      "250\n"
     ]
    }
   ],
   "source": [
    "#Let's check an example\n",
    "\n",
    "bike = {\"make\": \"Honda\", \"model\": \"250 dran\", \"colour\": \"red\", \"engine_size\": 250}\n",
    "\n",
    "print(bike[\"make\"])\n",
    "\n",
    "print(bike[\"engine_size\"])"
   ]
  },
  {
   "cell_type": "code",
   "execution_count": 14,
   "metadata": {},
   "outputs": [
    {
     "name": "stdout",
     "output_type": "stream",
     "text": [
      "{'orange': 'a sweet, organge, citrus fruit', 'apple': 'nice with juice', 'lemon': 'a sour, yellow citrus fruit', 'grape': 'a small, sweet fruit growing in bunches', 'lime': 'a sour, green citrus fruit'}\n",
      "Please enter a fruit: lime\n",
      "a sour, green citrus fruit\n",
      "Please enter a fruit: apple\n",
      "nice with juice\n",
      "Please enter a fruit: grape\n",
      "a small, sweet fruit growing in bunches\n",
      "Please enter a fruit: orange\n",
      "a sweet, organge, citrus fruit\n",
      "Please enter a fruit: lemon\n",
      "a sour, yellow citrus fruit\n",
      "Please enter a fruit: grape\n",
      "a small, sweet fruit growing in bunches\n",
      "Please enter a fruit: quit\n"
     ]
    }
   ],
   "source": [
    "#Let's check another example\n",
    "\n",
    "fruit = {\"orange\": \"a sweet, organge, citrus fruit\",\n",
    "         \"apple\": \"good for making cider\",\n",
    "         \"lemon\": \"a sour, yellow citrus fruit\",\n",
    "         \"grape\": \"a small, sweet fruit growing in bunches\",\n",
    "         \"apple\": \"nice with juice\",\n",
    "         \"lime\": \"a sour, green citrus fruit\"}\n",
    "print(fruit)\n",
    "\n",
    "while True:\n",
    "    dict_key = input(\"Please enter a fruit: \")\n",
    "    if dict_key == \"quit\":\n",
    "        break\n",
    "    description = fruit.get(dict_key,\"We do not have a \" + dict_key)\n",
    "    print(description)"
   ]
  },
  {
   "cell_type": "markdown",
   "metadata": {},
   "source": [
    "# 3 Object Oriented Programming"
   ]
  },
  {
   "cell_type": "markdown",
   "metadata": {},
   "source": [
    "**Object Oriented Programming (POO) is based on classes programming**, while the Structured Programming is based on functions."
   ]
  },
  {
   "cell_type": "markdown",
   "metadata": {},
   "source": [
    "## 3.1 Objects and Classes "
   ]
  },
  {
   "cell_type": "markdown",
   "metadata": {},
   "source": [
    "A **Class is a mold / container from which you can then create multiple objects with similar characteristics**. \n",
    "\n",
    "The class is a template that defines attributes (variables in structured programming) and methods (functions in structured programming). Therefore, the attributes and methods common to objects of this type are structured in the class.\n",
    "\n",
    "Important: *We must first create the class before creating the object (called instance) of that class*."
   ]
  },
  {
   "cell_type": "markdown",
   "metadata": {},
   "source": [
    "### 3.1.1 Definition of a class "
   ]
  },
  {
   "cell_type": "markdown",
   "metadata": {},
   "source": [
    "To define a class in Python, we just have to use the keyword “class” followed by the name we want to assign it, followed by a double dot.\n",
    "\n",
    "We need to keep in mind two main points:\n",
    "* **Indented Code**: all the code that the class will have must be indented, that is, it cannot be at the same height as the class declaration the interpreter declares an error.\n",
    "* **No parentheses**: When creating a class we do not put parentheses after indicating the name, unless we want that class to inherit the characteristics of another class."
   ]
  },
  {
   "cell_type": "markdown",
   "metadata": {},
   "source": [
    "### 3.1.2 Instantiate a class "
   ]
  },
  {
   "cell_type": "markdown",
   "metadata": {},
   "source": [
    "*The declaration of a class cannot be manipulated directly, so we have to instantiate an object of that class (create an object)*, in order to modify the attributes of that class. So, to instantiate a class, we must assign a variable the name of the class followed by parentheses."
   ]
  },
  {
   "cell_type": "code",
   "execution_count": 19,
   "metadata": {},
   "outputs": [],
   "source": [
    "#Let's check an example\n",
    "\n",
    "class pet:\n",
    "    color = \"brown\"\n",
    "    number_of_legs = 0\n",
    "\n",
    "dog = pet()"
   ]
  },
  {
   "cell_type": "markdown",
   "metadata": {},
   "source": [
    "### 3.1.3 Attributes of a class "
   ]
  },
  {
   "cell_type": "markdown",
   "metadata": {},
   "source": [
    "When you are creating a class, we must assign the attributes / properties that define it. To do this, we must declare some variables within the class.\n",
    "\n",
    "There are no limits on the attributes of a class, you can use as many as you want to meet the definition of that object.\n",
    "Aspects to consider in the attributes of a class:\n",
    "* Always **assign a value** to it.\n",
    "* **Name of the attributes**: the names that you assign to the attributes must always be the most descriptive and simple as possible."
   ]
  },
  {
   "cell_type": "markdown",
   "metadata": {},
   "source": [
    "**How to modify the attributes of a class?**\n",
    "To reference a property or attribute of an object in Python, we must follow the following structure:\n",
    "variable_name +. + attribute_name\n",
    "\n",
    "Example:\n",
    "\n",
    "dog.color = \"brown\" \n",
    "\n",
    "Therefore, by *referencing the attributes to an object, they can later be modified*."
   ]
  },
  {
   "cell_type": "markdown",
   "metadata": {},
   "source": [
    "### 3.1.4 Create logics behind the Classes "
   ]
  },
  {
   "cell_type": "markdown",
   "metadata": {},
   "source": [
    "To **introduce logic into classes / objects we use methods**, which are *functions contained within classes*. Define a method the same way we defined a function, using the keyword def + method name + (self)."
   ]
  },
  {
   "cell_type": "code",
   "execution_count": 20,
   "metadata": {},
   "outputs": [],
   "source": [
    "#Let's check an example of a method\n",
    "\n",
    "def sleep (self):\n",
    "    print('zzzzzzzzzzz')"
   ]
  },
  {
   "cell_type": "markdown",
   "metadata": {},
   "source": [
    "Therefore, the functions that make up the methods belong to that class and to invoke it, you must first call the variable that has the class, to later be able to make use of the particular method.\n",
    "In the previous example, *the function of the sleep method is to print “zzzz” every time we invoke it*.\n",
    "\n",
    "For a method to work within a class it must meet the following:\n",
    "* **Extra Indentation**: All the code block to be defined will have to have an extra indentation for the interpreter to understand it.\n",
    "* **It must always have a “self” argument**: every time you declare a method, we must add the self argument. Therefore, when the method is invoked, Python sends the instantiated object to the method and it can be operated with the current values ​​of the instance.\n",
    "\n",
    "**How are the methods used?** => Instantiate a class (for example, the pet class), to invoke the created method (sleep) through this class."
   ]
  },
  {
   "cell_type": "code",
   "execution_count": 24,
   "metadata": {},
   "outputs": [],
   "source": [
    "#Let's check an example of the Pet Class\n",
    "\n",
    "class pet:\n",
    "    #creation of attributes\n",
    "    color = \"brown\"\n",
    "    number_of_legs = 0\n",
    "\n",
    "#create a method\n",
    "def sleep (self):\n",
    "    print('zzzzzzzzzzz')\n",
    "\n",
    "#Build the objects\n",
    "dog = pet()\n"
   ]
  },
  {
   "cell_type": "code",
   "execution_count": 28,
   "metadata": {},
   "outputs": [
    {
     "name": "stdout",
     "output_type": "stream",
     "text": [
      "Name:  Lorena\n",
      "Puntuation:  7\n",
      "Approved\n",
      "Name:  Hugo\n",
      "Puntuation:  6\n",
      "Approved\n"
     ]
    }
   ],
   "source": [
    "#let's check another example with the Student Class\n",
    "\n",
    "class Student:\n",
    "    #declare methods with parameters\n",
    "    def declare (self, name, data):  \n",
    "        self.name =name   \n",
    "        self.puntuation = data \n",
    "    \n",
    "    #declare methods of visualization and statistics\n",
    "    def visualization (self):\n",
    "        print(\"Name: \", self.name)\n",
    "        print(\"Puntuation: \", self.puntuation) \n",
    "    \n",
    "    def statistics (self):\n",
    "        if self.puntuation <=4:\n",
    "            print(\"Not Approved\")\n",
    "        elif self.puntuation >=5:\n",
    "            print(\"Approved\")\n",
    "        elif self.puntuation >=8:\n",
    "            print(\"Remarkable\")\n",
    "        else:\n",
    "            print(\"Free\")\n",
    "\n",
    "#Build the objects\n",
    "\n",
    "Student1 = Student()\n",
    "Student1.declare(\"Lorena\", 7)\n",
    "Student1.visualization()\n",
    "Student1.statistics()\n",
    "\n",
    "Student2 = Student()\n",
    "Student2.declare(\"Hugo\", 6)\n",
    "Student2.visualization()\n",
    "Student2.statistics()"
   ]
  },
  {
   "cell_type": "markdown",
   "metadata": {},
   "source": [
    "## 3.2 Constructor method of a class "
   ]
  },
  {
   "cell_type": "markdown",
   "metadata": {},
   "source": [
    "A **constructor method** of a class is the **__init__ method**:\n",
    "\n",
    "def__init __ (self):\n",
    "\n",
    "The init method is a function that is automatically executed when an object is created. Its function is to start the attributes of the method we created.\n",
    "\n",
    "The __init__ method is called automatically and can receive parameters that are normally used to initialize attributes.\n",
    "\n",
    "On the other hand, the __init__ method cannot retrieve data and is an optional method, but it is very common to declare it."
   ]
  },
  {
   "cell_type": "code",
   "execution_count": 1,
   "metadata": {},
   "outputs": [
    {
     "name": "stdout",
     "output_type": "stream",
     "text": [
      "Name of the user: Lorena\n",
      "Anual income amount: 30000\n",
      "Name:  Lorena\n",
      "Revenues:  30000.0\n",
      "You must pay taxes\n"
     ]
    }
   ],
   "source": [
    "#let's check an example of the __init__ method with the User Class\n",
    "\n",
    "class User:\n",
    "    \n",
    "    def __init__ (self):\n",
    "        self.user = \"\"\n",
    "        self.revenues = 0\n",
    "    \n",
    "    def intro (self):\n",
    "        self.user = input(\"Name of the user: \")\n",
    "        self.revenues = float(input(\"Anual income amount: \"))\n",
    "    \n",
    "    def visualization (self):\n",
    "        print(\"Name: \", self.user)\n",
    "        print(\"Revenues: \", self.revenues)\n",
    "    \n",
    "    def taxation (self):\n",
    "        if self.revenues >= 22000:\n",
    "            print(\"You must pay taxes\")\n",
    "        else:\n",
    "            print(\"You do not have to pay taxes\")\n",
    "\n",
    "User1 = User()\n",
    "User1.intro()\n",
    "User1.visualization()\n",
    "User1.taxation()"
   ]
  },
  {
   "cell_type": "markdown",
   "metadata": {},
   "source": [
    "## 3.3 Method call from another method of the same class "
   ]
  },
  {
   "cell_type": "markdown",
   "metadata": {},
   "source": [
    "To call a method from another method of the same class, we use the following syntax:\n",
    "\n",
    "**self. [method name]**\n",
    "\n",
    "It is important to note that this action can only be done when we are within the same class."
   ]
  },
  {
   "cell_type": "code",
   "execution_count": 3,
   "metadata": {},
   "outputs": [
    {
     "name": "stdout",
     "output_type": "stream",
     "text": [
      "Enter a value: 5\n",
      "Enter a value: 9\n",
      "The result of the sum is:  14\n",
      "The result of the subtract is:  -4\n",
      "La result of the multiply is:  45\n",
      "The result of the division is:  0.5555555555555556\n"
     ]
    }
   ],
   "source": [
    "#let's check an example of a method that calls another methods with the Operation class\n",
    "\n",
    "class Operation:\n",
    "    \n",
    "    def __init__(self):\n",
    "        self.value1 = 0\n",
    "        self.value2 = 0\n",
    "    \n",
    "    def sumar (self):\n",
    "        suma = self.value1 + self.value2\n",
    "        print(\"The result of the sum is: \", suma)\n",
    "    \n",
    "    def subtract (self):\n",
    "        subtract = self.value1 - self.value2\n",
    "        print(\"The result of the subtract is: \", subtract)\n",
    "    \n",
    "    def multiply (self):\n",
    "        multi = self.value1 * self.value2\n",
    "        print(\"La result of the multiply is: \", multi)\n",
    "        \n",
    "    def division (self):\n",
    "        divi = self.value1 / self.value2\n",
    "        print(\"The result of the division is: \", divi)\n",
    "    \n",
    "    def enter_values (self):\n",
    "        self.value1 = int(input(\"Enter a value: \"))\n",
    "        self.value2 = int(input(\"Enter a value: \"))\n",
    "    \n",
    "    def main(self):\n",
    "        self.sumar()\n",
    "        self.subtract()\n",
    "        self.multiply()\n",
    "        self.division()\n",
    "\n",
    "#Build the objects\n",
    "Operation1 = Operation()\n",
    "Operation1.enter_values()\n",
    "Operation1.main()"
   ]
  },
  {
   "cell_type": "markdown",
   "metadata": {},
   "source": [
    "## 3.4 Collaboration between Classes "
   ]
  },
  {
   "cell_type": "markdown",
   "metadata": {},
   "source": [
    "**Synergy analysis between different classes.**"
   ]
  },
  {
   "cell_type": "code",
   "execution_count": 7,
   "metadata": {},
   "outputs": [
    {
     "name": "stdout",
     "output_type": "stream",
     "text": [
      "The total amount of the bank is:  1630\n",
      "Lorena You has deposited the sum of:  1000\n",
      "Melvin You has deposited the sum of:  500\n",
      "Noel You has deposited the sum of:  130\n"
     ]
    }
   ],
   "source": [
    "#let's check an example with the Client Class and Bank Class\n",
    "#Methods of the Client class are referenced in the Bank class\n",
    "\n",
    "#Build the Client Class\n",
    "class Client:\n",
    "    def __init__ (self, name):\n",
    "        self.name = name\n",
    "        self.amount = 0\n",
    "    \n",
    "    def deposit (self, amount):\n",
    "        self.amount = self.amount + amount\n",
    "        \n",
    "    def extract (self, amount):\n",
    "        self.amount = self.amount - amount\n",
    "    \n",
    "    def retunr_amount (self):\n",
    "        return self.amount\n",
    "    \n",
    "    def print (self):\n",
    "        print(self.name, \"You has deposited the sum of: \", self.amount)\n",
    "        \n",
    "#Build the Bank Class\n",
    "class Bank:\n",
    "    def __init__ (self):\n",
    "        self.client1 = Client(\"Lorena\")\n",
    "        self.client2 = Client(\"Melvin\")\n",
    "        self.client3 = Client(\"Noel\")\n",
    "    \n",
    "    def operate (self):\n",
    "        self.client1.deposit (1000)\n",
    "        self.client2.deposit (500)\n",
    "        self.client3.deposit (250)\n",
    "        self.client3.extract (120)\n",
    "    \n",
    "    def total_deposits (self):\n",
    "        total= self.client1.retunr_amount() + self.client2.retunr_amount() + self.client3.retunr_amount() \n",
    "        print(\"The total amount of the bank is: \", total)\n",
    "        self.client1.print()\n",
    "        self.client2.print()\n",
    "        self.client3.print()\n",
    "\n",
    "        \n",
    "#Build the objects\n",
    "Bank1 = Bank()\n",
    "Bank1.operate()\n",
    "Bank1.total_deposits()"
   ]
  },
  {
   "cell_type": "markdown",
   "metadata": {},
   "source": [
    "## 3.5 Heritage "
   ]
  },
  {
   "cell_type": "markdown",
   "metadata": {},
   "source": [
    "In object-oriented programming **Heritance** is one of the most used mechanisms to achieve *\"reuse\" and \"extensibility\"*. Through it, new classes can be created based on a class or a pre-existing class hierarchy (already checked and verified), thereby avoiding the redesign, modification and verification of the part already implemented.\n",
    "\n",
    "\n",
    "*One class is derived from another in a way that extends its functionality*. The class it inherits from is often called a superclass, parent class, or base class. Therefore, a subclass gets all the behavior (methods) and eventually the attributes (variables) of its superclass.\n",
    "\n",
    "Inheritance types:\n",
    "* **Simple Inheritance** => A class can only inherit from a base class and from no other\n",
    "* **Multiple Inheritance** => A class can inherit the characteristics of several base classes. Python supports multiple inheritance.\n"
   ]
  },
  {
   "cell_type": "code",
   "execution_count": 12,
   "metadata": {},
   "outputs": [
    {
     "name": "stdout",
     "output_type": "stream",
     "text": [
      "Enter the first value: 9\n",
      "Enter the second value: 4\n",
      "The result of the sum is: \n",
      "13\n",
      "Enter the first value: 8\n",
      "Enter the second value: 3\n",
      "The result of the subtract is: \n",
      "5\n"
     ]
    }
   ],
   "source": [
    "#let's check an example of Heritage within classes\n",
    "\n",
    "class Operation:\n",
    "    def __init__(self):\n",
    "        self.value1 = 0\n",
    "        self.value2 = 0\n",
    "        self.result = 0\n",
    "    \n",
    "    def upload(self):\n",
    "        self.value1 = int(input('Enter the first value: '))\n",
    "        self.value2 = int(input('Enter the second value: '))    \n",
    "    \n",
    "    def show_result(self):\n",
    "        print(self. result)\n",
    "\n",
    "class Suma(Operation):\n",
    "    def operate (self):\n",
    "        self.result = self.value1 + self.value2\n",
    "\n",
    "class Subtract(Operation):\n",
    "    def operate(self):\n",
    "        self.result =  self.value1 - self.value2\n",
    "\n",
    "#Build the Objects for the Suma Class\n",
    "suma1 = Suma()\n",
    "suma1.upload()\n",
    "suma1.operate()\n",
    "print('The result of the sum is: ')\n",
    "suma1.show_result()\n",
    "\n",
    "#Build the Objects for the Subtract Class\n",
    "subtract1 = Subtract()\n",
    "subtract1.upload()\n",
    "subtract1.operate()\n",
    "print('The result of the subtract is: ')\n",
    "subtract1.show_result()"
   ]
  },
  {
   "cell_type": "markdown",
   "metadata": {},
   "source": [
    "## 3.6 Class Variables "
   ]
  },
  {
   "cell_type": "markdown",
   "metadata": {},
   "source": [
    "*Attributes are independent for each object or instance of the class*. In some situations we need to store data that is shared by all the objects in the class, so in these situations we need to use \"class variables\". \n",
    "\n",
    "To define a class variable we define it inside the class, but outside the methods.\n",
    "\n",
    "**Class variable syntax**:\n",
    "\n",
    "class Name:\n",
    "\t\t\n",
    "        variable_clase = 20\n",
    "\t\t\n",
    "        def __init__ (self):\n",
    "\t\t\t\n",
    "            self.valor = 0\n",
    "\n",
    "Important note: Only one space is reserved for the class variable, regardless of the number of objects that are defined within the class."
   ]
  },
  {
   "cell_type": "code",
   "execution_count": 14,
   "metadata": {},
   "outputs": [
    {
     "name": "stdout",
     "output_type": "stream",
     "text": [
      "Code:  1\n",
      "Name:  Lorena\n",
      "You are approved\n",
      "Code:  2\n",
      "Name:  Tere\n",
      "You are approved\n",
      "Code:  3\n",
      "Name:  Mila\n",
      "You are not approved\n",
      "Code:  4\n",
      "Name:  Manuel\n",
      "You are not approved\n"
     ]
    }
   ],
   "source": [
    "#Let's check an example of a class variable with the Client Class\n",
    "\n",
    "class Client:\n",
    "    not_approved = [] #variable class in list form\n",
    "    \n",
    "    def __init__ (self, code, name):\n",
    "        self.code = code\n",
    "        self.name = name\n",
    "    \n",
    "    def print (self):\n",
    "        print(\"Code: \", self.code)\n",
    "        print(\"Name: \", self.name)\n",
    "        self.is_unapproved()\n",
    "    \n",
    "    def is_unapproved(self):\n",
    "        if self.code in Client.not_approved:  #Using the Class Variable, which is fed by the attribute \"code\"\n",
    "            print(\"You are not approved\")\n",
    "        else:\n",
    "            print(\"You are approved\")\n",
    "    \n",
    "    def failed(self):\n",
    "        Client.not_approved.append(self.code) \n",
    "\n",
    "#Build the objects\n",
    "client1 = Client(1, \"Lorena\")\n",
    "client2 = Client(2, \"Tere\")\n",
    "client3 = Client(3, \"Mila\")\n",
    "client4 = Client(4, \"Manuel\")\n",
    "\n",
    "client3.failed()\n",
    "client4.failed()\n",
    "\n",
    "client1.print()\n",
    "client2.print()\n",
    "client3.print()\n",
    "client4.print()"
   ]
  },
  {
   "cell_type": "markdown",
   "metadata": {},
   "source": [
    "## 3.7 STR Method: Redifinition of methods "
   ]
  },
  {
   "cell_type": "markdown",
   "metadata": {},
   "source": [
    "*To redefine a method, which must be executed, we use the special **method __str__** that will return a string*.\n",
    "\n",
    "The __str__ method is also executed if we call the str function and pass as an parameter an object that has said methods defined.\n",
    "\n",
    "**Syntax of the __str__ method**:\n",
    "\n",
    "class name:\n",
    "\t\t\n",
    "        def __init__(self, attribute1, attribute2):\n",
    "\t\t\t\n",
    "            self.attribute1 = attribute1\n",
    "\t\t\t\n",
    "            self.attribute2 = attribute2\n",
    "\t\t\n",
    "        def __str__ (self):\n",
    "\t\t\t\n",
    "            string = self.attribute1 + “,” + attribute2\n",
    "\t\t\t\n",
    "            return string\n"
   ]
  },
  {
   "cell_type": "code",
   "execution_count": 15,
   "metadata": {},
   "outputs": [
    {
     "name": "stdout",
     "output_type": "stream",
     "text": [
      "Manuel,Teresa,Mila,Lorena\n",
      "Manolo,Gloria,Juan Antonio,Laura\n",
      "David,Sonia\n"
     ]
    }
   ],
   "source": [
    "#let's check an example of the method __str__ with the class Family\n",
    "\n",
    "class Family:\n",
    "    \n",
    "    def __init__ (self, father, mother, sons=[]):\n",
    "        self.father = father\n",
    "        self.mother = mother\n",
    "        self.sons = sons\n",
    "     \n",
    "    def __str__ (self):\n",
    "        string = self.father + \",\" + self.mother\n",
    "        for son in self.sons:\n",
    "            string = string + \",\" + son\n",
    "        return string\n",
    "\n",
    "#Building the objects\n",
    "Family1 = Family(\"Manuel\", \"Teresa\", [\"Mila\", \"Lorena\"])\n",
    "Family2 = Family (\"Manolo\", \"Gloria\", [\"Juan Antonio\", \"Laura\"])\n",
    "Family3 = Family(\"David\", \"Sonia\")\n",
    "\n",
    "print(Family1)\n",
    "print(Family2)\n",
    "print(Family3) "
   ]
  },
  {
   "cell_type": "markdown",
   "metadata": {},
   "source": [
    "## 3.8 Setter and Getter Methods"
   ]
  },
  {
   "cell_type": "markdown",
   "metadata": {},
   "source": [
    "**Encapsulation** =>> *Delimitation of access to certain methods and attributes of objects in a class*. This property allows creating a secure interface between the user and the internal code of the class through the creation of ***special functions called Setters and Getters***.\n",
    "\n",
    "* **Setters** = >> Set the values ​​of the attributes in a class; Allow variables to be initialized after the constructor has been used.\n",
    "\n",
    "* **Getters** = >> Get the values ​​of the attributes in a class; They allow to obtain the state of the variable at a certain moment, which is useful to carry out other calculations."
   ]
  },
  {
   "cell_type": "code",
   "execution_count": 19,
   "metadata": {},
   "outputs": [
    {
     "name": "stdout",
     "output_type": "stream",
     "text": [
      "Official version of the complex number\n",
      "12.0 + i* 4.0\n",
      "modified complex number (change the value of the RealPart)\n",
      "25.0 + i* 4.0\n",
      "modified complex number (change the value of the ImaginaryPart)\n",
      "25.0 + i* 7.0\n",
      "RealPart part in another calculation (Real Part + 10.0)\n",
      "35.0\n",
      "Imaginary part in another calculation (Imaginary Part + 5.0)\n",
      "12.0\n"
     ]
    }
   ],
   "source": [
    "#let's check an example of Setters and Getters with the ComplexNumber Class\n",
    "\n",
    "#Build the ComplexNumber class\n",
    "class ComplexNumber:\n",
    "    \n",
    "    #Attributes of the class\n",
    "    RealPart = 0\n",
    "    ImaginaryPart = 0 \n",
    "   \n",
    "    #Methods of the class\n",
    "    #Constructor of the class\n",
    "    def __init__(self, real, imaginary):\n",
    "        self.RealPart = real\n",
    "        self.ImaginaryPart = imaginary      \n",
    "    \n",
    "    #Method to print the Complex Number\n",
    "    def printNumber(self):\n",
    "        print(str(self.RealPart) + \" + i* \" + str(self.ImaginaryPart))    \n",
    "\n",
    "#End of the ComplexNumber class\n",
    "\n",
    "#Application of Setters and Getters in a class\n",
    "    #Change the real part (setter)\n",
    "    def change_RealPart(self, real):\n",
    "        self.RealPart = real\n",
    "    #Get the real part (getter)\n",
    "    def get_RealPart(self):\n",
    "        return self.RealPart\n",
    "    \n",
    "    #Change the imaginary part (setter)\n",
    "    def change_ImaginaryPart(self, imaginary):\n",
    "        self.ImaginaryPart = imaginary\n",
    "    #Get the imaginary part (getter)\n",
    "    def get_ImaginaryPart(self):\n",
    "        return self.ImaginaryPart\n",
    "\n",
    "#Build an object to access into a class\n",
    "FirstNumber = ComplexNumber(12.0, 4.0)\n",
    "print (\"Official version of the complex number\")\n",
    "\n",
    "#Using a method associated with the object\n",
    "FirstNumber.printNumber()\n",
    "\n",
    "#Setter of the RealPart\n",
    "print(\"modified complex number (change the value of the RealPart)\")\n",
    "FirstNumber.change_RealPart(25.0)\n",
    "FirstNumber.printNumber()\n",
    "\n",
    "#Setter of the ImaginaryPart\n",
    "print(\"modified complex number (change the value of the ImaginaryPart)\")\n",
    "FirstNumber.change_ImaginaryPart(7.0)\n",
    "FirstNumber.printNumber()\n",
    "\n",
    "#Getter of the RealPart\n",
    "print(\"RealPart part in another calculation (Real Part + 10.0)\")\n",
    "print((FirstNumber.get_RealPart()) + 10.0)\n",
    "\n",
    "#Getter of the ImaginaryPart\n",
    "print(\"Imaginary part in another calculation (Imaginary Part + 5.0)\")\n",
    "print((FirstNumber.get_ImaginaryPart()) + 5.0)"
   ]
  },
  {
   "cell_type": "markdown",
   "metadata": {},
   "source": [
    "## 3.9 Redefinition of mathematical operators with objects "
   ]
  },
  {
   "cell_type": "markdown",
   "metadata": {},
   "source": [
    "Python allows us to **redefine mathematical operators when we pose a class**.\n",
    "\n",
    "The special methods that we must implement are the following:\n",
    "\n",
    "* For operator + :\n",
    "\n",
    "__add __ (self, object2)\n",
    "\n",
    "* For the operator -:\n",
    "\n",
    "__sub __ (self, object2)\n",
    "\n",
    "* For the operator *:\n",
    "\n",
    "__ mul __ (self, object2)\n",
    "\n",
    "* For the operator //:\n",
    "\n",
    "__floordiv __ (self, object2)\n",
    "\n",
    "* For the operator /:\n",
    "\n",
    "__div __ (self, object2)"
   ]
  },
  {
   "cell_type": "code",
   "execution_count": 26,
   "metadata": {},
   "outputs": [
    {
     "name": "stdout",
     "output_type": "stream",
     "text": [
      "[23, 57, 89, 47]\n",
      "[25, 59, 91, 49]\n",
      "[21, 55, 87, 45]\n",
      "[46, 114, 178, 94]\n",
      "[11.5, 28.5, 44.5, 23.5]\n"
     ]
    }
   ],
   "source": [
    "#Let's check an example with the Operators Class\n",
    "\n",
    "class Operators:\n",
    "    def __init__(self,list):\n",
    "        self.list = list  #return the values in a list form\n",
    "        \n",
    "    def visualization(self):\n",
    "        print(self.list)\n",
    "    \n",
    "#Buil methods with mathematical operators\n",
    "    def __add__ (self, integer):\n",
    "        new = []\n",
    "        for x in range(len(self.list)):\n",
    "            new.append(self.list[x] + integer)\n",
    "        return new\n",
    "    \n",
    "    def __sub__ (self, integer):\n",
    "        new = []\n",
    "        for x in range(len(self.list)):\n",
    "            new.append(self.list[x] - integer)\n",
    "        return new\n",
    "    \n",
    "    def __mul__ (self, integer):\n",
    "        new = []\n",
    "        for x in range(len(self.list)):\n",
    "            new.append(self.list[x]*integer)\n",
    "        return new\n",
    "    \n",
    "    def __floordiv__ (self, integer):\n",
    "        new = []\n",
    "        for x in range(len(self.list)):\n",
    "            new.append(self.list[x] / integer)\n",
    "        return new\n",
    "\n",
    "#Build the objects of the class\n",
    "data = Operators([23, 57, 89, 47])\n",
    "data.visualization()\n",
    "\n",
    "print(data + 2)\n",
    "print(data - 2)\n",
    "print(data * 2)\n",
    "print(data // 2)"
   ]
  },
  {
   "cell_type": "markdown",
   "metadata": {},
   "source": [
    "## 3.10 Redefinition of relational operators with objects "
   ]
  },
  {
   "cell_type": "markdown",
   "metadata": {},
   "source": [
    "Python also allows us to **redefine relational operators when we pose a class**.\n",
    "\n",
    "The special methods that we can implement are the following:\n",
    "\n",
    "* For the == operator:\n",
    "\n",
    "__eq __ (self, object2)\n",
    "\n",
    "*For the operator! =:\n",
    "\n",
    "__ne __ (self, object2)\n",
    "\n",
    "* For the operator>:\n",
    "\n",
    "__gt __ (self, object2)\n",
    "\n",
    "* For the operator> =:\n",
    "\n",
    "__ge __ (self, object2)\n",
    "\n",
    "* For operator <:\n",
    "\n",
    "__lt __ (self, object2)\n",
    "\n",
    "* For the operator <=:\n",
    "\n",
    "__le __ (self, object2)"
   ]
  },
  {
   "cell_type": "code",
   "execution_count": 30,
   "metadata": {},
   "outputs": [
    {
     "name": "stdout",
     "output_type": "stream",
     "text": [
      "Both people have the same age\n"
     ]
    }
   ],
   "source": [
    "#Let's check an example with Person Class\n",
    "\n",
    "class Person:\n",
    "    def __init__ (self, name, age):\n",
    "        self.name = name\n",
    "        self.age = age\n",
    "\n",
    "#Buil methods with relational operators\n",
    "    def __eq__ (self, object2):\n",
    "        if self.age == object2.age:\n",
    "            return True\n",
    "        else:\n",
    "            return False\n",
    "        \n",
    "    def __ne__ (self, object2):\n",
    "        if self.age != object2.age:\n",
    "            return True\n",
    "        else:\n",
    "            return False\n",
    "    \n",
    "    def __gt__ (self, object2):\n",
    "        if self.age > object2.age:\n",
    "            return True\n",
    "        else:\n",
    "            return False\n",
    "    \n",
    "    def __ge__ (self, object2):\n",
    "        if self.age >= object2.age:\n",
    "            return True\n",
    "        else:\n",
    "            return False\n",
    "    \n",
    "    def __lt__ (self, object2):\n",
    "        if self.age < object2.age:\n",
    "            return True\n",
    "        else:\n",
    "            return False\n",
    "    \n",
    "    def __le__ (self, object2):\n",
    "        if self.age <= object2.age:\n",
    "            return True\n",
    "        else:\n",
    "            return False\n",
    "        \n",
    "#Build the objects of the class\n",
    "person1 = Person (\"Lorena\", 27)\n",
    "person2 = Person (\"Lucia\", 27)\n",
    "\n",
    "if person1 == person2:\n",
    "    print(\"Both people have the same age\")\n",
    "else:\n",
    "    print(\"Both people do not have the same age\")"
   ]
  },
  {
   "cell_type": "markdown",
   "metadata": {},
   "source": [
    "## 3.11 Object File "
   ]
  },
  {
   "cell_type": "markdown",
   "metadata": {},
   "source": [
    "In this section we will check how to work with files in Python.\n",
    "\n",
    "| Code | Description | \n",
    "| :---: | :---: | \n",
    "| r\t| Read only | \n",
    "| rb\t| Read only in a binary mode | \n",
    "| r+ |\tRead and Write |\n",
    "| rb+ | Read and Write in a binary mode |\n",
    "| w\t| Read only. Overwrite the file if it exists. Create the file if it does not exist. |\n",
    "| wb | Read only in a binary mode. Overwrite the file if it exists. Create the file if it does not exist. | \n",
    "| w+ | Read and Write. Overwrite the file if it exists. Create the file if it does not exist. | \n",
    "| wb+ | Read and Write in a binary mode. Overwrite the file if it exists. Create the file if it does not exist. | \n",
    "| a | Added (add content). Create the file if it does not exist. | \n",
    "| ab\t| Added (add content) in a binary mode. Create the file if it does not exist.| \n",
    "| a+ | Added (add content) and read. Create the file if it does not exist. | \n",
    "| ab+ | Added (add content) and read in a binary mode. Create the file if it does not exist. | \n",
    "\n",
    "\n",
    "Below you can find the main methods for the Object File:\n",
    "\n"
   ]
  },
  {
   "cell_type": "code",
   "execution_count": 31,
   "metadata": {},
   "outputs": [
    {
     "name": "stdout",
     "output_type": "stream",
     "text": [
      "New Line\n"
     ]
    }
   ],
   "source": [
    "#let's check an example\n",
    "\n",
    "file = open (\"file.txt\", \"w+\")\n",
    "\n",
    "content = file.read()\n",
    "end_of_file = file.tell()\n",
    "\n",
    "file.write(\"New Line\")\n",
    "file.seek(end_of_file)\n",
    "new_content = file.read()\n",
    "\n",
    "file.close()\n",
    "\n",
    "print(new_content)"
   ]
  },
  {
   "cell_type": "markdown",
   "metadata": {},
   "source": [
    "## 3.11 Small Project: Send emails with Python "
   ]
  },
  {
   "cell_type": "markdown",
   "metadata": {},
   "source": [
    "To send emails from Python we use the **smtplib module** of one of the standard Python libraries, which *allows us to send email messages, even in HTML format*.\n",
    "\n",
    "What do we need?\n",
    "* Create a smtplib.SMTP object, which will receive as the parameter of its constructor method, the host (localhost).\n",
    "* Create an email message.\n",
    "* Send the message by calling the sendmail method of the SMTP object.\n",
    "\n",
    "It is also possible to use only smtplib and access the server of any email platform such as Gmail, you just have to know the server of this platform and the port.\n",
    "\n",
    "Ports details of the main mailing platforms:\n",
    "\n",
    "smtp.gmail.com: 587\n",
    "\n",
    "**server = smtplib.SMTP (‘smtp.gmail.com:587’) #with gmail\n",
    "\n",
    "**server = smtplib.SMTP (‘smtp.mail.outlook.com:587’) #with outlook\n",
    "\n",
    "**server = smtplib.SMTP (‘smtp.mail.yahoo.com:587’) #with yahoo"
   ]
  },
  {
   "cell_type": "code",
   "execution_count": 38,
   "metadata": {},
   "outputs": [
    {
     "data": {
      "text/plain": [
       "(221, b'2.0.0 Service closing transmission channel')"
      ]
     },
     "execution_count": 38,
     "metadata": {},
     "output_type": "execute_result"
    }
   ],
   "source": [
    "#let's check an example about how to send an Outlook email with Python\n",
    "\n",
    "import smtplib\n",
    "\n",
    "#Send the email with Python\n",
    "sender =  input(\"enter the email address of the sender:\")\n",
    "recipient  = input(\"enter the email address of the recipient:\")\n",
    "msg = input(\"write the text of the message:\")\n",
    "\n",
    "#Sender credentials\n",
    "username = input(\"enter your email address:\")\n",
    "password = input(\"enter your password to access into your email address account:\")\n",
    "\n",
    "#Sending the email\n",
    "server = smtplib.SMTP('smtp-mail.outlook.com:587') # with outlook\n",
    "server.starttls()\n",
    "server.login(username,password)\n",
    "server.sendmail(username, recipient, msg)\n",
    "server.quit()\n",
    "\n",
    "# server = smtplib.SMTP('smtp.gmail.com:587') # con gmail\n",
    "# server = smtplib.SMTP('smtp-mail.outlook.com:587') # con outlook\n",
    "# server =  smtplib.SMTP('smtp.mail.yahoo.com:587') # con yahoo\n",
    "# server =  smtplib.SMTP('smtp.mail.att.net:465') # con AT&T\n",
    "# server =  smtplib.SMTP('smtp.comcast.net:465') # con COMCAST\n",
    "# server =  smtplib.SMTP('smtp.verizon.net:465') # con verizon\n",
    "# server =  smtplib.SMTP('smtp.mail.yahoo.com:587') # con yahoo"
   ]
  },
  {
   "cell_type": "markdown",
   "metadata": {},
   "source": [
    "## Thanks for reading! "
   ]
  }
 ],
 "metadata": {
  "kernelspec": {
   "display_name": "Python 3",
   "language": "python",
   "name": "python3"
  },
  "language_info": {
   "codemirror_mode": {
    "name": "ipython",
    "version": 3
   },
   "file_extension": ".py",
   "mimetype": "text/x-python",
   "name": "python",
   "nbconvert_exporter": "python",
   "pygments_lexer": "ipython3",
   "version": "3.7.3"
  }
 },
 "nbformat": 4,
 "nbformat_minor": 2
}
